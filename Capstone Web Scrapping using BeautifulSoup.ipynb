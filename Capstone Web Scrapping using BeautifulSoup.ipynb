{
 "cells": [
  {
   "cell_type": "markdown",
   "metadata": {},
   "source": [
    "# Capstone Webscrapping using BeautifulSoup\n",
    "\n",
    "This notebook contains guidances & tasks on the data processing for the application\n",
    "\n",
    "In this project, we will use the **BeautifulSoup** library from **bs4** to do web scraping. BeautifulSoup is a Python library that makes it easier for us to retrieve information from a web page that is in the form of HTML and XML documents. We are going to use data from the IMDb website, which is list of movies between 2019-01-01 and 2019-12-31 sorted by popularity. IMDb is an online database of information related to films, television programs, home videos, video games, and streaming content online. Here we will only take seven most popular movies for our further analysis.\n",
    "\n",
    "\n",
    "## Requesting the Data and Creating a BeautifulSoup\n",
    "\n",
    "Let's begin with requesting the web from the site with `get` method."
   ]
  },
  {
   "cell_type": "code",
   "execution_count": 1,
   "metadata": {
    "ExecuteTime": {
     "end_time": "2020-01-13T05:12:23.275508Z",
     "start_time": "2020-01-13T05:12:20.009898Z"
    }
   },
   "outputs": [],
   "source": [
    "import requests\n",
    "\n",
    "url_get = requests.get('https://www.imdb.com/search/title/?release_date=2019-01-01,2019-12-31')"
   ]
  },
  {
   "cell_type": "markdown",
   "metadata": {},
   "source": [
    "To visualize what exactly you get from the `request.get`, we can use .content to see what we exactly get, in here i slice it so it won't make our screen full of the HTML we get from the page. You can delete the slicing if you want to see what we fully get."
   ]
  },
  {
   "cell_type": "code",
   "execution_count": 2,
   "metadata": {
    "ExecuteTime": {
     "end_time": "2020-01-13T05:12:23.290648Z",
     "start_time": "2020-01-13T05:12:23.277650Z"
    }
   },
   "outputs": [
    {
     "data": {
      "text/plain": [
       "b'\\n<!DOCTYPE html>\\n<html\\n    xmlns:og=\"http://ogp.me/ns#\"\\n    xmlns:fb=\"http://www.facebook.com/2008/fbml\">\\n    <head>\\n         \\n        <meta charset=\"utf-8\">\\n        <meta http-equiv=\"X-UA-Compatible\" content=\"IE=edge\">\\n\\n    <meta name=\"apple-itunes-app\" content=\"app-id=342792525, app-argument=imdb:///?src=mdot\">\\n\\n\\n\\n        <script type=\"text/javascript\">var IMDbTimer={starttime: new Date().getTime(),pt:\\'java\\'};</script>\\n\\n<script>\\n    if (typeof uet == \\'function\\') {\\n      uet(\"bb\", \"LoadTitle\",'"
      ]
     },
     "execution_count": 2,
     "metadata": {},
     "output_type": "execute_result"
    }
   ],
   "source": [
    "url_get.content[1:500]"
   ]
  },
  {
   "cell_type": "markdown",
   "metadata": {},
   "source": [
    "As we can see we get a very unstructured and complex HTML, which actually contains the codes needed to show the webpages on your web browser. But we as human still confused what and where we can use that piece of code, so here where we use the beautifulsoup. Beautiful soup class will result a beautifulsoup object. Beautiful Soup transforms a complex HTML document into a complex tree of Python objects. \n",
    "\n",
    "Let's make Beautiful soup object and feel free to explore the object here."
   ]
  },
  {
   "cell_type": "code",
   "execution_count": 3,
   "metadata": {
    "ExecuteTime": {
     "end_time": "2020-01-13T05:12:23.808122Z",
     "start_time": "2020-01-13T05:12:23.292610Z"
    }
   },
   "outputs": [
    {
     "name": "stdout",
     "output_type": "stream",
     "text": [
      "<class 'bs4.BeautifulSoup'>\n"
     ]
    }
   ],
   "source": [
    "from bs4 import BeautifulSoup \n",
    "\n",
    "soup = BeautifulSoup(url_get.content,\"html.parser\")\n",
    "print(type(soup))"
   ]
  },
  {
   "cell_type": "markdown",
   "metadata": {},
   "source": [
    "## Finding the right key to scrap the data & Extracting the right information"
   ]
  },
  {
   "cell_type": "markdown",
   "metadata": {},
   "source": [
    "The data that we get through `url_get.content` still contains the entire HTML script of the web page. The next step is to find the right keywords, which is an HTML tag, to get the part of the data that we want to retrieve from the HTML script. \n",
    "\n",
    "Here we will take part of the HTML script which is list of movies on the web page using the `.find()` and `.find_all()` function. To get the right HTML tag that contains this information, we can right-click on the part of movie list, then select inspect."
   ]
  },
  {
   "cell_type": "code",
   "execution_count": 4,
   "metadata": {
    "ExecuteTime": {
     "end_time": "2020-01-13T05:12:23.878904Z",
     "start_time": "2020-01-13T05:12:23.854974Z"
    },
    "scrolled": false
   },
   "outputs": [
    {
     "name": "stdout",
     "output_type": "stream",
     "text": [
      "div class=\"lister list detail sub-list\">\n",
      " <div class=\"lister-list\">\n",
      "  <div class=\"lister-item mode-advanced\">\n",
      "   <div class=\"lister-top-right\">\n",
      "    <div class=\"ribbonize\" data-caller=\"filmosearch\" data-tconst=\"tt8111088\">\n",
      "    </div>\n",
      "   </div>\n",
      "   <div class=\"lister-item-image float-left\">\n",
      "    <a href=\"/title/tt8111088/\">\n",
      "     <img alt=\"The Mandalorian\" class=\"loadlate\" data-tconst=\"tt8111088\" height=\"98\" loadlate=\"https://m.media-amazon.com/images/M/MV5BZDhlMzY0ZGItZTcyNS00ZTAxLWIyMmYtZGQ2ODg5OW\n"
     ]
    }
   ],
   "source": [
    "movie_list = soup.find('div', attrs={'class':'lister list detail sub-list'})\n",
    "print(movie_list.prettify()[1:500])"
   ]
  },
  {
   "cell_type": "code",
   "execution_count": 5,
   "metadata": {
    "scrolled": true
   },
   "outputs": [
    {
     "data": {
      "text/plain": [
       "50"
      ]
     },
     "execution_count": 5,
     "metadata": {},
     "output_type": "execute_result"
    }
   ],
   "source": [
    "list_content = movie_list.find_all('div', attrs={'class':'lister-item-content'})\n",
    "len(list_content)"
   ]
  },
  {
   "cell_type": "markdown",
   "metadata": {},
   "source": [
    "**Title**"
   ]
  },
  {
   "cell_type": "code",
   "execution_count": 6,
   "metadata": {},
   "outputs": [
    {
     "data": {
      "text/plain": [
       "[[<h3 class=\"lister-item-header\">\n",
       "  <span class=\"lister-item-index unbold text-primary\">1.</span>\n",
       "  <a href=\"/title/tt8111088/\">The Mandalorian</a>\n",
       "  <span class=\"lister-item-year text-muted unbold\">(2019– )</span>\n",
       "  </h3>],\n",
       " [<h3 class=\"lister-item-header\">\n",
       "  <span class=\"lister-item-index unbold text-primary\">2.</span>\n",
       "  <a href=\"/title/tt1190634/\">The Boys</a>\n",
       "  <span class=\"lister-item-year text-muted unbold\">(2019– )</span>\n",
       "  </h3>]]"
      ]
     },
     "execution_count": 6,
     "metadata": {},
     "output_type": "execute_result"
    }
   ],
   "source": [
    "header = []\n",
    "\n",
    "for i in range(0, len(list_content)):\n",
    "    get_header = list_content[i].find_all('h3', attrs={'class':'lister-item-header'})\n",
    "    header.append(get_header)\n",
    "    \n",
    "header[:2]"
   ]
  },
  {
   "cell_type": "markdown",
   "metadata": {},
   "source": [
    "**Runtime and Genre**"
   ]
  },
  {
   "cell_type": "code",
   "execution_count": 7,
   "metadata": {},
   "outputs": [
    {
     "data": {
      "text/plain": [
       "[<p class=\"text-muted\">\n",
       " <span class=\"runtime\">40 min</span>\n",
       " <span class=\"ghost\">|</span>\n",
       " <span class=\"genre\">\n",
       " Action, Adventure, Sci-Fi            </span>\n",
       " </p>,\n",
       " <p class=\"text-muted\">\n",
       " <span class=\"runtime\">60 min</span>\n",
       " <span class=\"ghost\">|</span>\n",
       " <span class=\"genre\">\n",
       " Action, Comedy, Crime            </span>\n",
       " </p>]"
      ]
     },
     "execution_count": 7,
     "metadata": {},
     "output_type": "execute_result"
    }
   ],
   "source": [
    "runtime_and_genre = []\n",
    "\n",
    "for i in range(0, len(list_content)):\n",
    "    get_runtime_and_genre = list_content[i].find_all('p', attrs={'class':'text-muted'})[0]\n",
    "    runtime_and_genre.append(get_runtime_and_genre)\n",
    "    \n",
    "runtime_and_genre[:2]"
   ]
  },
  {
   "cell_type": "markdown",
   "metadata": {},
   "source": [
    "**IMDb Rating**"
   ]
  },
  {
   "cell_type": "code",
   "execution_count": 8,
   "metadata": {},
   "outputs": [
    {
     "data": {
      "text/plain": [
       "[[<div class=\"inline-block ratings-imdb-rating\" data-value=\"8.7\" name=\"ir\">\n",
       "  <span class=\"global-sprite rating-star imdb-rating\"></span>\n",
       "  <strong>8.7</strong>\n",
       "  </div>],\n",
       " [<div class=\"inline-block ratings-imdb-rating\" data-value=\"8.7\" name=\"ir\">\n",
       "  <span class=\"global-sprite rating-star imdb-rating\"></span>\n",
       "  <strong>8.7</strong>\n",
       "  </div>]]"
      ]
     },
     "execution_count": 8,
     "metadata": {},
     "output_type": "execute_result"
    }
   ],
   "source": [
    "ratings = []\n",
    "\n",
    "for i in range(0, len(list_content)):\n",
    "    get_ratings = list_content[i].find_all('div', attrs={'class':'inline-block ratings-imdb-rating'})\n",
    "    ratings.append(get_ratings)\n",
    "    \n",
    "ratings[:2]"
   ]
  },
  {
   "cell_type": "markdown",
   "metadata": {},
   "source": [
    "**Metascore**"
   ]
  },
  {
   "cell_type": "code",
   "execution_count": 9,
   "metadata": {},
   "outputs": [
    {
     "data": {
      "text/plain": [
       "[[], [], [], []]"
      ]
     },
     "execution_count": 9,
     "metadata": {},
     "output_type": "execute_result"
    }
   ],
   "source": [
    "ratings_metascore = []\n",
    "\n",
    "for i in range(0, len(list_content)):\n",
    "    get_ratings_metascore = list_content[i].find_all('div', attrs={'class':'inline-block ratings-metascore'})\n",
    "    ratings_metascore.append(get_ratings_metascore)\n",
    "    \n",
    "ratings_metascore[:4]"
   ]
  },
  {
   "cell_type": "markdown",
   "metadata": {},
   "source": [
    "**Votes**"
   ]
  },
  {
   "cell_type": "code",
   "execution_count": 10,
   "metadata": {},
   "outputs": [
    {
     "data": {
      "text/plain": [
       "[[<p class=\"sort-num_votes-visible\">\n",
       "  <span class=\"text-muted\">Votes:</span>\n",
       "  <span data-value=\"221251\" name=\"nv\">221,251</span>\n",
       "  </p>],\n",
       " [<p class=\"sort-num_votes-visible\">\n",
       "  <span class=\"text-muted\">Votes:</span>\n",
       "  <span data-value=\"218602\" name=\"nv\">218,602</span>\n",
       "  </p>]]"
      ]
     },
     "execution_count": 10,
     "metadata": {},
     "output_type": "execute_result"
    }
   ],
   "source": [
    "num_votes = []\n",
    "\n",
    "for i in range(0, len(list_content)):\n",
    "    get_num_votes = list_content[i].find_all('p', attrs={'class':'sort-num_votes-visible'})\n",
    "    num_votes.append(get_num_votes)\n",
    "    \n",
    "num_votes[:2]"
   ]
  },
  {
   "cell_type": "markdown",
   "metadata": {},
   "source": [
    "From the above steps we have succeeded in getting the part of the HTML script that stores the data information we want to retrieve. We will use data on the title, runtime, genre, IMDB rating, metascore, and the number of votes for each movie. \n",
    "\n",
    "Next is to do the scrapping process. We will take the value of each data for each movie by doing the looping process as many as the number of films on the web page. Every value obtained will be collected in a variable named **temp**."
   ]
  },
  {
   "cell_type": "code",
   "execution_count": 11,
   "metadata": {
    "ExecuteTime": {
     "end_time": "2020-01-13T05:12:24.008256Z",
     "start_time": "2020-01-13T05:12:23.980358Z"
    }
   },
   "outputs": [
    {
     "data": {
      "text/plain": [
       "[('The Mandalorian', '40 min', 'Action', '8.7', None, '221,251'),\n",
       " ('The Mandalorian', '40 min', 'Adventure', '8.7', None, '221,251'),\n",
       " ('The Mandalorian', '40 min', 'Sci-Fi', '8.7', None, '221,251'),\n",
       " ('The Boys', '60 min', 'Action', '8.7', None, '218,602'),\n",
       " ('The Boys', '60 min', 'Comedy', '8.7', None, '218,602')]"
      ]
     },
     "execution_count": 11,
     "metadata": {},
     "output_type": "execute_result"
    }
   ],
   "source": [
    "temp = [] #initiating a tuple\n",
    "\n",
    "for i in range(0, len(list_content)):\n",
    "    #get title\n",
    "    title = header[i][0].find('a').text\n",
    "    \n",
    "    #get runtime\n",
    "    runtime = runtime_and_genre[i].find('span', attrs={'class':'runtime'})\n",
    "    \n",
    "    if (runtime != None):\n",
    "        runtime = runtime.text\n",
    "        \n",
    "    #getruntime\n",
    "    genre = runtime_and_genre[i].find('span', attrs={'class':'genre'}).text\n",
    "    genre = genre.strip() #for removing the excess whitespace\n",
    "    genre = genre.replace(' ', '').split(',')\n",
    "\n",
    "    #get imdb rating\n",
    "    imdb_rating = ratings[i][0].find('strong').text\n",
    "    \n",
    "    #get metascore\n",
    "    if (len(ratings_metascore[i])):\n",
    "        metascore = ratings_metascore[i][0].find('span').text\n",
    "        metascore = metascore.strip()\n",
    "    else:\n",
    "        metascore = None\n",
    "        \n",
    "    #get votes\n",
    "    votes = num_votes[i][0].find('span', attrs={'name':'nv'}).text\n",
    "    \n",
    "    for j in range(0, len(genre)):\n",
    "        temp.append((title, runtime, genre[j], imdb_rating, metascore, votes))\n",
    "    \n",
    "temp[:5]"
   ]
  },
  {
   "cell_type": "markdown",
   "metadata": {},
   "source": [
    "## Creating data frame & Data wrangling"
   ]
  },
  {
   "cell_type": "markdown",
   "metadata": {},
   "source": [
    "Put the array into dataframe"
   ]
  },
  {
   "cell_type": "code",
   "execution_count": 12,
   "metadata": {
    "ExecuteTime": {
     "end_time": "2020-01-13T05:12:41.517372Z",
     "start_time": "2020-01-13T05:12:29.130015Z"
    }
   },
   "outputs": [
    {
     "data": {
      "text/html": [
       "<div>\n",
       "<style scoped>\n",
       "    .dataframe tbody tr th:only-of-type {\n",
       "        vertical-align: middle;\n",
       "    }\n",
       "\n",
       "    .dataframe tbody tr th {\n",
       "        vertical-align: top;\n",
       "    }\n",
       "\n",
       "    .dataframe thead th {\n",
       "        text-align: right;\n",
       "    }\n",
       "</style>\n",
       "<table border=\"1\" class=\"dataframe\">\n",
       "  <thead>\n",
       "    <tr style=\"text-align: right;\">\n",
       "      <th></th>\n",
       "      <th>Title</th>\n",
       "      <th>Runtime (min)</th>\n",
       "      <th>Genre</th>\n",
       "      <th>IMDb Rating</th>\n",
       "      <th>Metascore</th>\n",
       "      <th>Votes</th>\n",
       "    </tr>\n",
       "  </thead>\n",
       "  <tbody>\n",
       "    <tr>\n",
       "      <th>0</th>\n",
       "      <td>The Mandalorian</td>\n",
       "      <td>40 min</td>\n",
       "      <td>Action</td>\n",
       "      <td>8.7</td>\n",
       "      <td>None</td>\n",
       "      <td>221,251</td>\n",
       "    </tr>\n",
       "    <tr>\n",
       "      <th>1</th>\n",
       "      <td>The Mandalorian</td>\n",
       "      <td>40 min</td>\n",
       "      <td>Adventure</td>\n",
       "      <td>8.7</td>\n",
       "      <td>None</td>\n",
       "      <td>221,251</td>\n",
       "    </tr>\n",
       "    <tr>\n",
       "      <th>2</th>\n",
       "      <td>The Mandalorian</td>\n",
       "      <td>40 min</td>\n",
       "      <td>Sci-Fi</td>\n",
       "      <td>8.7</td>\n",
       "      <td>None</td>\n",
       "      <td>221,251</td>\n",
       "    </tr>\n",
       "    <tr>\n",
       "      <th>3</th>\n",
       "      <td>The Boys</td>\n",
       "      <td>60 min</td>\n",
       "      <td>Action</td>\n",
       "      <td>8.7</td>\n",
       "      <td>None</td>\n",
       "      <td>218,602</td>\n",
       "    </tr>\n",
       "    <tr>\n",
       "      <th>4</th>\n",
       "      <td>The Boys</td>\n",
       "      <td>60 min</td>\n",
       "      <td>Comedy</td>\n",
       "      <td>8.7</td>\n",
       "      <td>None</td>\n",
       "      <td>218,602</td>\n",
       "    </tr>\n",
       "  </tbody>\n",
       "</table>\n",
       "</div>"
      ],
      "text/plain": [
       "             Title Runtime (min)      Genre IMDb Rating Metascore    Votes\n",
       "0  The Mandalorian        40 min     Action         8.7      None  221,251\n",
       "1  The Mandalorian        40 min  Adventure         8.7      None  221,251\n",
       "2  The Mandalorian        40 min     Sci-Fi         8.7      None  221,251\n",
       "3         The Boys        60 min     Action         8.7      None  218,602\n",
       "4         The Boys        60 min     Comedy         8.7      None  218,602"
      ]
     },
     "execution_count": 12,
     "metadata": {},
     "output_type": "execute_result"
    }
   ],
   "source": [
    "import pandas as pd\n",
    "\n",
    "df = pd.DataFrame(temp, columns=('Title', 'Runtime (min)', 'Genre', 'IMDb Rating', 'Metascore', 'Votes'))\n",
    "df.head()"
   ]
  },
  {
   "cell_type": "markdown",
   "metadata": {},
   "source": [
    "After the data is in the form of a dataframe, we can perform data cleaning process such as changing the data type, filling in missing values, and for this movie list data we can remove **min** in the runtime column and **comma** in the votes column so that these two columns can be converted into a more precise data type."
   ]
  },
  {
   "cell_type": "code",
   "execution_count": 13,
   "metadata": {
    "ExecuteTime": {
     "end_time": "2020-01-13T05:12:59.165559Z",
     "start_time": "2020-01-13T05:12:58.910012Z"
    }
   },
   "outputs": [
    {
     "data": {
      "text/html": [
       "<div>\n",
       "<style scoped>\n",
       "    .dataframe tbody tr th:only-of-type {\n",
       "        vertical-align: middle;\n",
       "    }\n",
       "\n",
       "    .dataframe tbody tr th {\n",
       "        vertical-align: top;\n",
       "    }\n",
       "\n",
       "    .dataframe thead th {\n",
       "        text-align: right;\n",
       "    }\n",
       "</style>\n",
       "<table border=\"1\" class=\"dataframe\">\n",
       "  <thead>\n",
       "    <tr style=\"text-align: right;\">\n",
       "      <th></th>\n",
       "      <th>Title</th>\n",
       "      <th>Runtime (min)</th>\n",
       "      <th>Genre</th>\n",
       "      <th>IMDb Rating</th>\n",
       "      <th>Metascore</th>\n",
       "      <th>Votes</th>\n",
       "    </tr>\n",
       "  </thead>\n",
       "  <tbody>\n",
       "    <tr>\n",
       "      <th>0</th>\n",
       "      <td>The Mandalorian</td>\n",
       "      <td>40</td>\n",
       "      <td>Action</td>\n",
       "      <td>8.7</td>\n",
       "      <td>None</td>\n",
       "      <td>221251</td>\n",
       "    </tr>\n",
       "    <tr>\n",
       "      <th>1</th>\n",
       "      <td>The Mandalorian</td>\n",
       "      <td>40</td>\n",
       "      <td>Adventure</td>\n",
       "      <td>8.7</td>\n",
       "      <td>None</td>\n",
       "      <td>221251</td>\n",
       "    </tr>\n",
       "    <tr>\n",
       "      <th>2</th>\n",
       "      <td>The Mandalorian</td>\n",
       "      <td>40</td>\n",
       "      <td>Sci-Fi</td>\n",
       "      <td>8.7</td>\n",
       "      <td>None</td>\n",
       "      <td>221251</td>\n",
       "    </tr>\n",
       "    <tr>\n",
       "      <th>3</th>\n",
       "      <td>The Boys</td>\n",
       "      <td>60</td>\n",
       "      <td>Action</td>\n",
       "      <td>8.7</td>\n",
       "      <td>None</td>\n",
       "      <td>218602</td>\n",
       "    </tr>\n",
       "    <tr>\n",
       "      <th>4</th>\n",
       "      <td>The Boys</td>\n",
       "      <td>60</td>\n",
       "      <td>Comedy</td>\n",
       "      <td>8.7</td>\n",
       "      <td>None</td>\n",
       "      <td>218602</td>\n",
       "    </tr>\n",
       "  </tbody>\n",
       "</table>\n",
       "</div>"
      ],
      "text/plain": [
       "             Title Runtime (min)      Genre IMDb Rating Metascore   Votes\n",
       "0  The Mandalorian           40      Action         8.7      None  221251\n",
       "1  The Mandalorian           40   Adventure         8.7      None  221251\n",
       "2  The Mandalorian           40      Sci-Fi         8.7      None  221251\n",
       "3         The Boys           60      Action         8.7      None  218602\n",
       "4         The Boys           60      Comedy         8.7      None  218602"
      ]
     },
     "execution_count": 13,
     "metadata": {},
     "output_type": "execute_result"
    }
   ],
   "source": [
    "df['Runtime (min)'] = df['Runtime (min)'].str.replace('min', '')\n",
    "df['Votes'] = df['Votes'].str.replace(',', '')\n",
    "\n",
    "df.head()"
   ]
  },
  {
   "cell_type": "code",
   "execution_count": 14,
   "metadata": {},
   "outputs": [
    {
     "name": "stdout",
     "output_type": "stream",
     "text": [
      "<class 'pandas.core.frame.DataFrame'>\n",
      "RangeIndex: 133 entries, 0 to 132\n",
      "Data columns (total 6 columns):\n",
      "Title            133 non-null object\n",
      "Runtime (min)    133 non-null object\n",
      "Genre            133 non-null object\n",
      "IMDb Rating      133 non-null object\n",
      "Metascore        87 non-null object\n",
      "Votes            133 non-null object\n",
      "dtypes: object(6)\n",
      "memory usage: 6.4+ KB\n"
     ]
    }
   ],
   "source": [
    "df.info()"
   ]
  },
  {
   "cell_type": "code",
   "execution_count": 15,
   "metadata": {},
   "outputs": [
    {
     "name": "stdout",
     "output_type": "stream",
     "text": [
      "<class 'pandas.core.frame.DataFrame'>\n",
      "RangeIndex: 133 entries, 0 to 132\n",
      "Data columns (total 6 columns):\n",
      "Title            133 non-null object\n",
      "Runtime (min)    133 non-null object\n",
      "Genre            133 non-null object\n",
      "IMDb Rating      133 non-null object\n",
      "Metascore        133 non-null object\n",
      "Votes            133 non-null object\n",
      "dtypes: object(6)\n",
      "memory usage: 6.4+ KB\n"
     ]
    }
   ],
   "source": [
    "df[['Runtime (min)', 'Metascore']] = \\\n",
    "df[['Runtime (min)', 'Metascore']].fillna(0)\n",
    "\n",
    "df.info()"
   ]
  },
  {
   "cell_type": "code",
   "execution_count": 16,
   "metadata": {},
   "outputs": [
    {
     "data": {
      "text/plain": [
       "Title            50\n",
       "Runtime (min)    40\n",
       "Genre            18\n",
       "IMDb Rating      30\n",
       "Metascore        25\n",
       "Votes            50\n",
       "Name: unique, dtype: object"
      ]
     },
     "execution_count": 16,
     "metadata": {},
     "output_type": "execute_result"
    }
   ],
   "source": [
    "df.describe(include='all').loc['unique']"
   ]
  },
  {
   "cell_type": "code",
   "execution_count": 17,
   "metadata": {},
   "outputs": [
    {
     "data": {
      "text/plain": [
       "Title              object\n",
       "Runtime (min)       int64\n",
       "Genre            category\n",
       "IMDb Rating       float64\n",
       "Metascore           int64\n",
       "Votes               int64\n",
       "dtype: object"
      ]
     },
     "execution_count": 17,
     "metadata": {},
     "output_type": "execute_result"
    }
   ],
   "source": [
    "#convert to category\n",
    "df['Genre'] = df['Genre'].astype('category')\n",
    "\n",
    "#convert to integer\n",
    "df[['Runtime (min)', 'Metascore', 'Votes']] = \\\n",
    "df[['Runtime (min)', 'Metascore', 'Votes']].astype('int64')\n",
    "\n",
    "#convert to float\n",
    "df['IMDb Rating'] = df['IMDb Rating'].astype(float)\n",
    "\n",
    "df.dtypes"
   ]
  },
  {
   "cell_type": "code",
   "execution_count": 18,
   "metadata": {
    "scrolled": true
   },
   "outputs": [
    {
     "data": {
      "text/html": [
       "<div>\n",
       "<style scoped>\n",
       "    .dataframe tbody tr th:only-of-type {\n",
       "        vertical-align: middle;\n",
       "    }\n",
       "\n",
       "    .dataframe tbody tr th {\n",
       "        vertical-align: top;\n",
       "    }\n",
       "\n",
       "    .dataframe thead th {\n",
       "        text-align: right;\n",
       "    }\n",
       "</style>\n",
       "<table border=\"1\" class=\"dataframe\">\n",
       "  <thead>\n",
       "    <tr style=\"text-align: right;\">\n",
       "      <th></th>\n",
       "      <th>Title</th>\n",
       "      <th>Runtime (min)</th>\n",
       "      <th>IMDb Rating</th>\n",
       "      <th>Metascore</th>\n",
       "      <th>Votes</th>\n",
       "    </tr>\n",
       "  </thead>\n",
       "  <tbody>\n",
       "    <tr>\n",
       "      <th>0</th>\n",
       "      <td>The Mandalorian</td>\n",
       "      <td>40</td>\n",
       "      <td>8.7</td>\n",
       "      <td>0</td>\n",
       "      <td>221251</td>\n",
       "    </tr>\n",
       "    <tr>\n",
       "      <th>3</th>\n",
       "      <td>The Boys</td>\n",
       "      <td>60</td>\n",
       "      <td>8.7</td>\n",
       "      <td>0</td>\n",
       "      <td>218602</td>\n",
       "    </tr>\n",
       "    <tr>\n",
       "      <th>6</th>\n",
       "      <td>His Dark Materials</td>\n",
       "      <td>60</td>\n",
       "      <td>7.9</td>\n",
       "      <td>0</td>\n",
       "      <td>42445</td>\n",
       "    </tr>\n",
       "    <tr>\n",
       "      <th>9</th>\n",
       "      <td>Virgin River</td>\n",
       "      <td>44</td>\n",
       "      <td>7.5</td>\n",
       "      <td>0</td>\n",
       "      <td>12486</td>\n",
       "    </tr>\n",
       "    <tr>\n",
       "      <th>11</th>\n",
       "      <td>Mosul</td>\n",
       "      <td>86</td>\n",
       "      <td>7.3</td>\n",
       "      <td>0</td>\n",
       "      <td>10428</td>\n",
       "    </tr>\n",
       "    <tr>\n",
       "      <th>14</th>\n",
       "      <td>Knives Out</td>\n",
       "      <td>130</td>\n",
       "      <td>7.9</td>\n",
       "      <td>82</td>\n",
       "      <td>420648</td>\n",
       "    </tr>\n",
       "    <tr>\n",
       "      <th>17</th>\n",
       "      <td>The Witcher</td>\n",
       "      <td>60</td>\n",
       "      <td>8.2</td>\n",
       "      <td>0</td>\n",
       "      <td>282997</td>\n",
       "    </tr>\n",
       "  </tbody>\n",
       "</table>\n",
       "</div>"
      ],
      "text/plain": [
       "                 Title  Runtime (min)  IMDb Rating  Metascore   Votes\n",
       "0      The Mandalorian             40          8.7          0  221251\n",
       "3             The Boys             60          8.7          0  218602\n",
       "6   His Dark Materials             60          7.9          0   42445\n",
       "9         Virgin River             44          7.5          0   12486\n",
       "11               Mosul             86          7.3          0   10428\n",
       "14          Knives Out            130          7.9         82  420648\n",
       "17         The Witcher             60          8.2          0  282997"
      ]
     },
     "execution_count": 18,
     "metadata": {},
     "output_type": "execute_result"
    }
   ],
   "source": [
    "top7 = df.drop('Genre', axis=1).drop_duplicates()[:7]\n",
    "top7"
   ]
  },
  {
   "cell_type": "code",
   "execution_count": 29,
   "metadata": {},
   "outputs": [
    {
     "data": {
      "text/plain": [
       "Title\n",
       "The Mandalorian          Action\n",
       "The Mandalorian       Adventure\n",
       "The Mandalorian          Sci-Fi\n",
       "The Boys                 Action\n",
       "The Boys                 Comedy\n",
       "The Boys                  Crime\n",
       "His Dark Materials    Adventure\n",
       "His Dark Materials        Drama\n",
       "His Dark Materials       Family\n",
       "Virgin River              Drama\n",
       "Virgin River            Romance\n",
       "Mosul                    Action\n",
       "Mosul                     Drama\n",
       "Mosul                       War\n",
       "Knives Out               Comedy\n",
       "Knives Out                Crime\n",
       "Knives Out                Drama\n",
       "The Witcher              Action\n",
       "The Witcher           Adventure\n",
       "The Witcher             Fantasy\n",
       "Name: Genre, dtype: category\n",
       "Categories (18, object): [Action, Adventure, Animation, Biography, ..., Sci-Fi, Sport, Thriller, War]"
      ]
     },
     "execution_count": 29,
     "metadata": {},
     "output_type": "execute_result"
    }
   ],
   "source": [
    "df.set_index('Title')['Genre'].loc[:'The Witcher']"
   ]
  },
  {
   "cell_type": "code",
   "execution_count": 39,
   "metadata": {
    "scrolled": false
   },
   "outputs": [
    {
     "data": {
      "text/html": [
       "<div>\n",
       "<style scoped>\n",
       "    .dataframe tbody tr th:only-of-type {\n",
       "        vertical-align: middle;\n",
       "    }\n",
       "\n",
       "    .dataframe tbody tr th {\n",
       "        vertical-align: top;\n",
       "    }\n",
       "\n",
       "    .dataframe thead th {\n",
       "        text-align: right;\n",
       "    }\n",
       "</style>\n",
       "<table border=\"1\" class=\"dataframe\">\n",
       "  <thead>\n",
       "    <tr style=\"text-align: right;\">\n",
       "      <th></th>\n",
       "      <th>Title</th>\n",
       "      <th>Genre</th>\n",
       "    </tr>\n",
       "  </thead>\n",
       "  <tbody>\n",
       "    <tr>\n",
       "      <th>0</th>\n",
       "      <td>The Mandalorian</td>\n",
       "      <td>Action</td>\n",
       "    </tr>\n",
       "    <tr>\n",
       "      <th>1</th>\n",
       "      <td>The Mandalorian</td>\n",
       "      <td>Adventure</td>\n",
       "    </tr>\n",
       "    <tr>\n",
       "      <th>2</th>\n",
       "      <td>The Mandalorian</td>\n",
       "      <td>Sci-Fi</td>\n",
       "    </tr>\n",
       "    <tr>\n",
       "      <th>3</th>\n",
       "      <td>The Boys</td>\n",
       "      <td>Action</td>\n",
       "    </tr>\n",
       "    <tr>\n",
       "      <th>4</th>\n",
       "      <td>The Boys</td>\n",
       "      <td>Comedy</td>\n",
       "    </tr>\n",
       "    <tr>\n",
       "      <th>5</th>\n",
       "      <td>The Boys</td>\n",
       "      <td>Crime</td>\n",
       "    </tr>\n",
       "    <tr>\n",
       "      <th>6</th>\n",
       "      <td>His Dark Materials</td>\n",
       "      <td>Adventure</td>\n",
       "    </tr>\n",
       "    <tr>\n",
       "      <th>7</th>\n",
       "      <td>His Dark Materials</td>\n",
       "      <td>Drama</td>\n",
       "    </tr>\n",
       "    <tr>\n",
       "      <th>8</th>\n",
       "      <td>His Dark Materials</td>\n",
       "      <td>Family</td>\n",
       "    </tr>\n",
       "    <tr>\n",
       "      <th>9</th>\n",
       "      <td>Virgin River</td>\n",
       "      <td>Drama</td>\n",
       "    </tr>\n",
       "    <tr>\n",
       "      <th>10</th>\n",
       "      <td>Virgin River</td>\n",
       "      <td>Romance</td>\n",
       "    </tr>\n",
       "    <tr>\n",
       "      <th>11</th>\n",
       "      <td>Mosul</td>\n",
       "      <td>Action</td>\n",
       "    </tr>\n",
       "    <tr>\n",
       "      <th>12</th>\n",
       "      <td>Mosul</td>\n",
       "      <td>Drama</td>\n",
       "    </tr>\n",
       "    <tr>\n",
       "      <th>13</th>\n",
       "      <td>Mosul</td>\n",
       "      <td>War</td>\n",
       "    </tr>\n",
       "    <tr>\n",
       "      <th>14</th>\n",
       "      <td>Knives Out</td>\n",
       "      <td>Comedy</td>\n",
       "    </tr>\n",
       "    <tr>\n",
       "      <th>15</th>\n",
       "      <td>Knives Out</td>\n",
       "      <td>Crime</td>\n",
       "    </tr>\n",
       "    <tr>\n",
       "      <th>16</th>\n",
       "      <td>Knives Out</td>\n",
       "      <td>Drama</td>\n",
       "    </tr>\n",
       "    <tr>\n",
       "      <th>17</th>\n",
       "      <td>The Witcher</td>\n",
       "      <td>Action</td>\n",
       "    </tr>\n",
       "    <tr>\n",
       "      <th>18</th>\n",
       "      <td>The Witcher</td>\n",
       "      <td>Adventure</td>\n",
       "    </tr>\n",
       "    <tr>\n",
       "      <th>19</th>\n",
       "      <td>The Witcher</td>\n",
       "      <td>Fantasy</td>\n",
       "    </tr>\n",
       "  </tbody>\n",
       "</table>\n",
       "</div>"
      ],
      "text/plain": [
       "                 Title      Genre\n",
       "0      The Mandalorian     Action\n",
       "1      The Mandalorian  Adventure\n",
       "2      The Mandalorian     Sci-Fi\n",
       "3             The Boys     Action\n",
       "4             The Boys     Comedy\n",
       "5             The Boys      Crime\n",
       "6   His Dark Materials  Adventure\n",
       "7   His Dark Materials      Drama\n",
       "8   His Dark Materials     Family\n",
       "9         Virgin River      Drama\n",
       "10        Virgin River    Romance\n",
       "11               Mosul     Action\n",
       "12               Mosul      Drama\n",
       "13               Mosul        War\n",
       "14          Knives Out     Comedy\n",
       "15          Knives Out      Crime\n",
       "16          Knives Out      Drama\n",
       "17         The Witcher     Action\n",
       "18         The Witcher  Adventure\n",
       "19         The Witcher    Fantasy"
      ]
     },
     "execution_count": 39,
     "metadata": {},
     "output_type": "execute_result"
    }
   ],
   "source": [
    "top7_genre = df.set_index('Title')['Genre']\n",
    "top7_genre = top7_genre.loc[:'The Witcher'].reset_index()\n",
    "\n",
    "top7_genre"
   ]
  },
  {
   "cell_type": "markdown",
   "metadata": {},
   "source": [
    "### Implementing your webscrapping to the flask dashboard\n",
    "\n",
    "- Copy paste all of your web scrapping process to the desired position on the `app.py`\n",
    "- Changing the title of the dasboard at `index.html`"
   ]
  },
  {
   "cell_type": "markdown",
   "metadata": {},
   "source": [
    "## Finishing This Notebook with Your Analysis and Conclusion\n",
    "\n",
    "First you can do start with making the data visualisation. "
   ]
  },
  {
   "cell_type": "code",
   "execution_count": 40,
   "metadata": {},
   "outputs": [
    {
     "name": "stdout",
     "output_type": "stream",
     "text": [
      "['Solarize_Light2', '_classic_test_patch', 'bmh', 'classic', 'dark_background', 'fast', 'fivethirtyeight', 'ggplot', 'grayscale', 'seaborn', 'seaborn-bright', 'seaborn-colorblind', 'seaborn-dark', 'seaborn-dark-palette', 'seaborn-darkgrid', 'seaborn-deep', 'seaborn-muted', 'seaborn-notebook', 'seaborn-paper', 'seaborn-pastel', 'seaborn-poster', 'seaborn-talk', 'seaborn-ticks', 'seaborn-white', 'seaborn-whitegrid', 'tableau-colorblind10']\n"
     ]
    }
   ],
   "source": [
    "import matplotlib.pyplot as plt\n",
    "\n",
    "print(plt.style.available)\n",
    "plt.style.use('seaborn')"
   ]
  },
  {
   "cell_type": "code",
   "execution_count": 41,
   "metadata": {
    "scrolled": false
   },
   "outputs": [
    {
     "data": {
      "text/plain": [
       "<AxesSubplot:ylabel='Title'>"
      ]
     },
     "execution_count": 41,
     "metadata": {},
     "output_type": "execute_result"
    },
    {
     "data": {
      "image/png": "[encoded data removed]",
      "text/plain": [
       "<Figure size 576x396 with 1 Axes>"
      ]
     },
     "metadata": {},
     "output_type": "display_data"
    }
   ],
   "source": [
    "top7.sort_values('Votes').plot(kind='barh', x='Title', y='Votes')"
   ]
  },
  {
   "cell_type": "code",
   "execution_count": 42,
   "metadata": {},
   "outputs": [
    {
     "data": {
      "text/plain": [
       "<AxesSubplot:ylabel='Title'>"
      ]
     },
     "execution_count": 42,
     "metadata": {},
     "output_type": "execute_result"
    },
    {
     "data": {
      "image/png": "[encoded data removed]",
      "text/plain": [
       "<Figure size 576x396 with 1 Axes>"
      ]
     },
     "metadata": {},
     "output_type": "display_data"
    }
   ],
   "source": [
    "top7.sort_values('IMDb Rating').plot(kind='barh', x='Title', y='IMDb Rating')"
   ]
  },
  {
   "cell_type": "code",
   "execution_count": 43,
   "metadata": {},
   "outputs": [
    {
     "data": {
      "text/plain": [
       "<AxesSubplot:ylabel='Title'>"
      ]
     },
     "execution_count": 43,
     "metadata": {},
     "output_type": "execute_result"
    },
    {
     "data": {
      "image/png": "[encoded data removed]",
      "text/plain": [
       "<Figure size 576x396 with 1 Axes>"
      ]
     },
     "metadata": {},
     "output_type": "display_data"
    }
   ],
   "source": [
    "top7.sort_values('Metascore').plot(kind='barh', x='Title', y='Metascore')"
   ]
  },
  {
   "cell_type": "code",
   "execution_count": 44,
   "metadata": {},
   "outputs": [
    {
     "data": {
      "text/plain": [
       "<AxesSubplot:xlabel='Title'>"
      ]
     },
     "execution_count": 44,
     "metadata": {},
     "output_type": "execute_result"
    },
    {
     "data": {
      "image/png": "[encoded data removed]",
      "text/plain": [
       "<Figure size 576x396 with 1 Axes>"
      ]
     },
     "metadata": {},
     "output_type": "display_data"
    }
   ],
   "source": [
    "top7.sort_values('Runtime (min)', ascending=False).plot(kind='bar', x='Title', y='Runtime (min)')"
   ]
  },
  {
   "cell_type": "code",
   "execution_count": 45,
   "metadata": {
    "scrolled": false
   },
   "outputs": [
    {
     "data": {
      "text/plain": [
       "<AxesSubplot:xlabel='Genre'>"
      ]
     },
     "execution_count": 45,
     "metadata": {},
     "output_type": "execute_result"
    },
    {
     "data": {
      "image/png": "[encoded data removed]",
      "text/plain": [
       "<Figure size 576x396 with 1 Axes>"
      ]
     },
     "metadata": {},
     "output_type": "display_data"
    }
   ],
   "source": [
    "pd.crosstab(\n",
    "    index=top7_genre['Genre'],\n",
    "    columns='Count',\n",
    ").sort_values('Count', ascending=False).plot(kind='bar')"
   ]
  },
  {
   "cell_type": "markdown",
   "metadata": {},
   "source": [
    "From the results of the data visualization process, we can get the insight that the popularity of a movie is not influenced by the number of votes, IMDB rating, or metascore. We know that **The Mandalorian** is the most popular film based on the IMDb website, but it doesn't have the highest number of votes, IMDb ratings, or metascore. This can also be clarified by the explanation on the IMDb Community Forums, that the popularity of a film is determined based on page views of pages related to a movie.\n",
    "\n",
    "\n",
    "Besides that, we can also see from the visualization that the film with the longest runtime of the 7 most popular movies is Jojo Rabbit with the first most genre is Action, second is Drama, and the third is Adventure."
   ]
  },
  {
   "cell_type": "markdown",
   "metadata": {},
   "source": [
    "### Extra Challange\n",
    "\n",
    "This will be not included to the scoring. \n",
    "\n",
    "- You can create additional analysis from the data.\n",
    "- Implement it to the dashboard with at `app.py` dan `index.html`."
   ]
  }
 ],
 "metadata": {
  "kernelspec": {
   "display_name": "Web Scraping - bs4",
   "language": "python",
   "name": "webscraping_bs4"
  },
  "language_info": {
   "codemirror_mode": {
    "name": "ipython",
    "version": 3
   },
   "file_extension": ".py",
   "mimetype": "text/x-python",
   "name": "python",
   "nbconvert_exporter": "python",
   "pygments_lexer": "ipython3",
   "version": "3.8.5"
  },
  "toc": {
   "base_numbering": 1,
   "nav_menu": {},
   "number_sections": true,
   "sideBar": true,
   "skip_h1_title": false,
   "title_cell": "Table of Contents",
   "title_sidebar": "Contents",
   "toc_cell": false,
   "toc_position": {},
   "toc_section_display": true,
   "toc_window_display": false
  }
 },
 "nbformat": 4,
 "nbformat_minor": 2
}
